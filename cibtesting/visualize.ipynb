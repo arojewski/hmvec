{
 "cells": [
  {
   "cell_type": "code",
   "execution_count": 2,
   "metadata": {},
   "outputs": [
    {
     "data": {
      "text/html": [
       "<script>\n",
       "  function code_toggle() {\n",
       "    if (code_shown){\n",
       "      $('div.input').hide('500');\n",
       "      $('#toggleButton').val('Show Code')\n",
       "    } else {\n",
       "      $('div.input').show('500');\n",
       "      $('#toggleButton').val('Hide Code')\n",
       "    }\n",
       "    code_shown = !code_shown\n",
       "  }\n",
       "\n",
       "  $( document ).ready(function(){\n",
       "    code_shown=false;\n",
       "    $('div.input').hide()\n",
       "  });\n",
       "</script>\n",
       "<form action=\"javascript:code_toggle()\"><input type=\"submit\" id=\"toggleButton\" value=\"Show Code\"></form>\n"
      ],
      "text/plain": [
       "<IPython.core.display.HTML object>"
      ]
     },
     "metadata": {},
     "output_type": "display_data"
    }
   ],
   "source": [
    "%%HTML\n",
    "<script>\n",
    "  function code_toggle() {\n",
    "    if (code_shown){\n",
    "      $('div.input').hide('500');\n",
    "      $('#toggleButton').val('Show Code')\n",
    "    } else {\n",
    "      $('div.input').show('500');\n",
    "      $('#toggleButton').val('Hide Code')\n",
    "    }\n",
    "    code_shown = !code_shown\n",
    "  }\n",
    "\n",
    "  $( document ).ready(function(){\n",
    "    code_shown=false;\n",
    "    $('div.input').hide()\n",
    "  });\n",
    "</script>\n",
    "<form action=\"javascript:code_toggle()\"><input type=\"submit\" id=\"toggleButton\" value=\"Show Code\"></form>"
   ]
  },
  {
   "cell_type": "code",
   "execution_count": 1,
   "metadata": {},
   "outputs": [],
   "source": [
    "#Packages\n",
    "import numpy as np\n",
    "from scipy.stats import norm\n",
    "import matplotlib.pyplot as plt\n",
    "import matplotlib\n",
    "from astropy import units as u\n",
    "import astropy.constants as const\n",
    "from astropy.modeling.blackbody import blackbody_nu\n",
    "from scipy.optimize import fsolve\n",
    "\n",
    "#Plot settings\n",
    "%matplotlib inline\n",
    "matplotlib.rcParams['axes.labelsize'] = 'x-large'\n",
    "matplotlib.rcParams['xtick.labelsize'] = 'x-large'\n",
    "matplotlib.rcParams['ytick.labelsize'] = 'x-large'\n",
    "matplotlib.rcParams['legend.fontsize'] = 'xx-large'\n",
    "matplotlib.rcParams['axes.titlesize'] = 'xx-large'"
   ]
  },
  {
   "cell_type": "code",
   "execution_count": 4,
   "metadata": {},
   "outputs": [],
   "source": [
    "from hmvec import cib"
   ]
  },
  {
   "cell_type": "markdown",
   "metadata": {},
   "source": [
    "# $ \\Sigma (M)$"
   ]
  },
  {
   "cell_type": "markdown",
   "metadata": {},
   "source": [
    "This is our actual $\\Sigma$"
   ]
  },
  {
   "cell_type": "code",
   "execution_count": 5,
   "metadata": {},
   "outputs": [
    {
     "ename": "TypeError",
     "evalue": "capitalSigma() missing 2 required positional arguments: 'logM_eff' and 'sigma2'",
     "output_type": "error",
     "traceback": [
      "\u001b[0;31m---------------------------------------------------------------------------\u001b[0m",
      "\u001b[0;31mTypeError\u001b[0m                                 Traceback (most recent call last)",
      "\u001b[0;32m<ipython-input-5-94d1c3e4c7f4>\u001b[0m in \u001b[0;36m<module>\u001b[0;34m\u001b[0m\n\u001b[1;32m      4\u001b[0m \u001b[0;31m#Plot\u001b[0m\u001b[0;34m\u001b[0m\u001b[0;34m\u001b[0m\u001b[0;34m\u001b[0m\u001b[0m\n\u001b[1;32m      5\u001b[0m \u001b[0mplt\u001b[0m\u001b[0;34m.\u001b[0m\u001b[0mfigure\u001b[0m\u001b[0;34m(\u001b[0m\u001b[0mfigsize\u001b[0m\u001b[0;34m=\u001b[0m\u001b[0;34m(\u001b[0m\u001b[0;36m8\u001b[0m\u001b[0;34m,\u001b[0m\u001b[0;36m5\u001b[0m\u001b[0;34m)\u001b[0m\u001b[0;34m)\u001b[0m\u001b[0;34m;\u001b[0m\u001b[0;34m\u001b[0m\u001b[0;34m\u001b[0m\u001b[0m\n\u001b[0;32m----> 6\u001b[0;31m \u001b[0mplt\u001b[0m\u001b[0;34m.\u001b[0m\u001b[0mplot\u001b[0m\u001b[0;34m(\u001b[0m\u001b[0mmasses\u001b[0m\u001b[0;34m,\u001b[0m \u001b[0mcib\u001b[0m\u001b[0;34m.\u001b[0m\u001b[0mcapitalSigma\u001b[0m\u001b[0;34m(\u001b[0m\u001b[0mmasses\u001b[0m\u001b[0;34m)\u001b[0m\u001b[0;34m,\u001b[0m \u001b[0mlabel\u001b[0m\u001b[0;34m=\u001b[0m\u001b[0;34mr'$\\Sigma(M)$'\u001b[0m\u001b[0;34m)\u001b[0m\u001b[0;34m;\u001b[0m\u001b[0;34m\u001b[0m\u001b[0;34m\u001b[0m\u001b[0m\n\u001b[0m\u001b[1;32m      7\u001b[0m \u001b[0mplt\u001b[0m\u001b[0;34m.\u001b[0m\u001b[0maxvline\u001b[0m\u001b[0;34m(\u001b[0m\u001b[0mx\u001b[0m \u001b[0;34m=\u001b[0m \u001b[0;36m10\u001b[0m\u001b[0;34m**\u001b[0m\u001b[0;36m12.3\u001b[0m\u001b[0;34m,\u001b[0m \u001b[0mls\u001b[0m\u001b[0;34m=\u001b[0m\u001b[0;34m'--'\u001b[0m\u001b[0;34m,\u001b[0m \u001b[0mcolor\u001b[0m\u001b[0;34m=\u001b[0m\u001b[0;34m'orange'\u001b[0m\u001b[0;34m,\u001b[0m \u001b[0mlabel\u001b[0m\u001b[0;34m=\u001b[0m\u001b[0;34mr'$M_{eff}$'\u001b[0m\u001b[0;34m)\u001b[0m\u001b[0;34m\u001b[0m\u001b[0;34m\u001b[0m\u001b[0m\n\u001b[1;32m      8\u001b[0m \u001b[0;34m\u001b[0m\u001b[0m\n",
      "\u001b[0;31mTypeError\u001b[0m: capitalSigma() missing 2 required positional arguments: 'logM_eff' and 'sigma2'"
     ]
    },
    {
     "data": {
      "text/plain": [
       "<Figure size 576x360 with 0 Axes>"
      ]
     },
     "metadata": {},
     "output_type": "display_data"
    }
   ],
   "source": [
    "#Inputs\n",
    "masses = np.logspace(11,15, num=200)\n",
    "\n",
    "#Plot\n",
    "plt.figure(figsize=(8,5));\n",
    "plt.plot(masses, cib.capitalSigma(masses), label=r'$\\Sigma(M)$');\n",
    "plt.axvline(x = 10**12.3, ls='--', color='orange', label=r'$M_{eff}$')\n",
    "\n",
    "#Plotting extras\n",
    "plt.xscale('log')\n",
    "plt.legend()\n",
    "plt.xlabel(r'Mass ($M_{\\odot}$)')\n",
    "plt.savefig('mass.png', bbox_inches='tight')"
   ]
  },
  {
   "cell_type": "markdown",
   "metadata": {},
   "source": [
    "Although slight, the Gaussian is definitely asymmetric. You can increase the spread in the definition of $\\Sigma$ to see the asymmetry more.\n",
    "\n",
    "Of course, the function is also shifted to the right (see Aside #1 for more)."
   ]
  },
  {
   "cell_type": "markdown",
   "metadata": {},
   "source": [
    "## Aside\n",
    "This section demonstrates certain principles that went into making the above plot\n",
    "\n",
    "1. The following compares a Gaussian with an x*Gaussian. Clearly, the multiplication of x shifts the mean to the right. It also scales the whole thing. Our $\\Sigma$ doesn't look like this because it's Gaussian on a log scale already."
   ]
  },
  {
   "cell_type": "code",
   "execution_count": 4,
   "metadata": {},
   "outputs": [
    {
     "name": "stdout",
     "output_type": "stream",
     "text": [
      "The peak of the Gaussian is 133 \n",
      "The peak of the x*Gaussian is 145\n"
     ]
    },
    {
     "data": {
      "image/png": "[encoded data removed]",
      "text/plain": [
       "<Figure size 720x576 with 2 Axes>"
      ]
     },
     "metadata": {
      "needs_background": "light"
     },
     "output_type": "display_data"
    }
   ],
   "source": [
    "x = np.logspace(10,13, num=200)\n",
    "mu = 1e12\n",
    "sigma = 1e12 - 1e11\n",
    "\n",
    "y1 = norm.pdf(x,mu,sigma)\n",
    "y2 = x*norm.pdf(x,mu,sigma)\n",
    "\n",
    "fig, axes = plt.subplots(2, sharex=True, figsize=(10,8))\n",
    "axes[0].semilogx(x, y1, color='blue', label='Gaussian')\n",
    "axes[1].semilogx(x, y2, color='orange' ,label='x * Gaussian')\n",
    "\n",
    "axes[0].legend()\n",
    "axes[1].legend()\n",
    "\n",
    "print('The peak of the Gaussian is {} \\nThe peak of the x*Gaussian is {}'.format(np.argmax(y1), np.argmax(y2)))"
   ]
  },
  {
   "cell_type": "markdown",
   "metadata": {},
   "source": [
    "2. The following demonstrates the difference between a linspace and logspace on a linear and log plot scale"
   ]
  },
  {
   "cell_type": "code",
   "execution_count": 14,
   "metadata": {},
   "outputs": [
    {
     "name": "stdout",
     "output_type": "stream",
     "text": [
      "[   10.            11.51395399    13.25711366    15.26417967\n",
      "    17.57510625    20.23589648    23.29951811    26.82695795\n",
      "    30.88843596    35.56480306    40.94915062    47.14866363\n",
      "    54.28675439    62.50551925    71.9685673     82.86427729\n",
      "    95.40954763   109.8541142    126.48552169   145.63484775\n",
      "   167.68329368   193.06977289   222.29964825   255.95479227\n",
      "   294.70517026   339.32217719   390.69399371   449.8432669\n",
      "   517.94746792   596.36233166   686.648845     790.60432109\n",
      "   910.29817799  1048.11313415  1206.79264064  1389.49549437\n",
      "  1599.85871961  1842.06996933  2120.95088792  2442.05309455\n",
      "  2811.76869797  3237.45754282  3727.59372031  4291.93426013\n",
      "  4941.71336132  5689.86602902  6551.2855686   7543.12006335\n",
      "  8685.11373751 10000.        ]\n",
      "[   10.           213.87755102   417.75510204   621.63265306\n",
      "   825.51020408  1029.3877551   1233.26530612  1437.14285714\n",
      "  1641.02040816  1844.89795918  2048.7755102   2252.65306122\n",
      "  2456.53061224  2660.40816327  2864.28571429  3068.16326531\n",
      "  3272.04081633  3475.91836735  3679.79591837  3883.67346939\n",
      "  4087.55102041  4291.42857143  4495.30612245  4699.18367347\n",
      "  4903.06122449  5106.93877551  5310.81632653  5514.69387755\n",
      "  5718.57142857  5922.44897959  6126.32653061  6330.20408163\n",
      "  6534.08163265  6737.95918367  6941.83673469  7145.71428571\n",
      "  7349.59183673  7553.46938776  7757.34693878  7961.2244898\n",
      "  8165.10204082  8368.97959184  8572.85714286  8776.73469388\n",
      "  8980.6122449   9184.48979592  9388.36734694  9592.24489796\n",
      "  9796.12244898 10000.        ]\n",
      "[   10.            11.51395399    13.25711366    15.26417967\n",
      "    17.57510625    20.23589648    23.29951811    26.82695795\n",
      "    30.88843596    35.56480306    40.94915062    47.14866363\n",
      "    54.28675439    62.50551925    71.9685673     82.86427729\n",
      "    95.40954763   109.8541142    126.48552169   145.63484775\n",
      "   167.68329368   193.06977289   222.29964825   255.95479227\n",
      "   294.70517026   339.32217719   390.69399371   449.8432669\n",
      "   517.94746792   596.36233166   686.648845     790.60432109\n",
      "   910.29817799  1048.11313415  1206.79264064  1389.49549437\n",
      "  1599.85871961  1842.06996933  2120.95088792  2442.05309455\n",
      "  2811.76869797  3237.45754282  3727.59372031  4291.93426013\n",
      "  4941.71336132  5689.86602902  6551.2855686   7543.12006335\n",
      "  8685.11373751 10000.        ]\n"
     ]
    },
    {
     "data": {
      "image/png": "[encoded data removed]",
      "text/plain": [
       "<Figure size 720x576 with 2 Axes>"
      ]
     },
     "metadata": {
      "needs_background": "light"
     },
     "output_type": "display_data"
    }
   ],
   "source": [
    "y = np.logspace(np.log10(3)+4, 4)\n",
    "x = np.linspace(1e1, 1e4)\n",
    "z = np.linspace(np.log10(1e1), np.log10(1e4))\n",
    "\n",
    "#Plotting\n",
    "fig, ax = plt.subplots(2, figsize=(10,8))\n",
    "for i in range(2):\n",
    "    ax[i].scatter(x,x, label='linear', alpha=0.7)\n",
    "    ax[i].scatter(y,y, label='log')\n",
    "    ax[i].legend()\n",
    "\n",
    "#Gravy\n",
    "plt.xscale('log')\n",
    "plt.xlim(10, 1e4)\n",
    "plt.ylim(10, 1e4);\n",
    "\n",
    "print(y)\n",
    "print(x)\n",
    "print(10**z)"
   ]
  },
  {
   "cell_type": "markdown",
   "metadata": {},
   "source": [
    "# L(M, z)"
   ]
  },
  {
   "cell_type": "code",
   "execution_count": null,
   "metadata": {},
   "outputs": [],
   "source": [
    "#Inputs\n",
    "redshifts = np.linspace(0.1, 5)\n",
    "masses = np.logspace(12,14, num=200)\n",
    "freq = 545.0e9 #Ghz\n",
    "\n",
    "#Calculations\n",
    "M, Z = np.meshgrid(masses, redshifts)\n",
    "L = cib.luminosity(M, Z, freq)\n",
    "\n",
    "#Plot\n",
    "plt.figure(figsize=(9,5));\n",
    "plt.contourf(M, Z, L, 10)\n",
    "plt.colorbar();\n",
    "\n",
    "#Plotting extras\n",
    "plt.xscale('log')\n",
    "plt.xlabel(r'Mass ($M_{\\odot}$)')\n",
    "plt.ylabel('Redshift')\n",
    "plt.title('Luminosity');\n",
    "plt.savefig('luminosity.png', bbox_inches='tight')"
   ]
  },
  {
   "cell_type": "markdown",
   "metadata": {},
   "source": [
    "The dimensions of the SED function are power per steradian per area, in cgs. The luminosity function then has units of $M_{\\odot}*\\text{erg}*(s*sr*cm^2)^{-1}$"
   ]
  },
  {
   "cell_type": "markdown",
   "metadata": {},
   "source": [
    "# The Full SED"
   ]
  },
  {
   "cell_type": "code",
   "execution_count": null,
   "metadata": {},
   "outputs": [],
   "source": [
    "def blackbody(v, T):\n",
    "    # Defining physical constants\n",
    "    c = const.c.cgs.value\n",
    "    h = const.h.cgs.value\n",
    "    k_B = const.k_B.cgs.value\n",
    "    \n",
    "    return (2.0*h/c**2) * v**3 / (np.exp((v/T) * (h/k_B)) - 1.0)\n",
    "\n",
    "def boltzmann(x, T):\n",
    "    # Defining physical constants\n",
    "    c = const.c.cgs.value\n",
    "    h = const.h.cgs.value\n",
    "    k_B = const.k_B.cgs.value\n",
    "    \n",
    "    return np.exp(h*x / (k_B*T))\n",
    "\n",
    "def deriv_cond(v, T, b, g):\n",
    "    # Defining physical constants\n",
    "    c = const.c.cgs.value\n",
    "    h = const.h.cgs.value\n",
    "    k_B = const.k_B.cgs.value\n",
    "    \n",
    "    v_star = 1.0e12\n",
    "    \n",
    "    first_term = (b+3)\n",
    "    second_term = - ((h * v)/(k_B * T)) * boltzmann(v,T) / (boltzmann(v,T) - 1)\n",
    "    third_term = g\n",
    "    \n",
    "    return first_term + second_term + third_term\n",
    "\n",
    "def sysEquations(var, *constants):\n",
    "    temps, b, g = constants  \n",
    "    vo_g = var[:temps.size]\n",
    "    A_g = var[temps.size:]\n",
    "    \n",
    "    v_star = 1.0e12\n",
    "    \n",
    "    eq1 = (vo_g)**b * blackbody(vo_g, temps) - A_g * (vo_g)**(-g)\n",
    "    eq2 = deriv_cond(vo_g, temps, b, g)\n",
    "\n",
    "    return np.concatenate((eq1, eq2))\n",
    "\n",
    "def sed(nu_obs, z, plot=False, beta=1.75, gamma=1.7, alpha=0.36):\n",
    "    #Undoing Redshift: from Observing to Original\n",
    "    nu = nu_obs * (1+z)\n",
    "    temp_obs = 24.4\n",
    "    temp_array = temp_obs * (1+z)**alpha\n",
    "    \n",
    "    #Get nu_o and proportionality constant\n",
    "    v_star = 1.0e12\n",
    "    nu_o_guess = np.ones(temp_array.shape, dtype=np.float64) * 1e12#/v_star\n",
    "    A_guess = np.ones(temp_array.shape, dtype=np.float64) * 1e24\n",
    "    sol = fsolve(sysEquations, (nu_o_guess, A_guess), args=(temp_array, beta, gamma))\n",
    "    nu_o_array = sol[:temp_array.size]\n",
    "    A_array = sol[temp_array.size:]\n",
    "    \n",
    "    #Plot the whole spectrum\n",
    "    if plot:\n",
    "        #Setup\n",
    "        nu_range = np.logspace(9, 14, 2000)\n",
    "        plt.figure()\n",
    "\n",
    "        #Spectra\n",
    "        for i, nu_o in enumerate(nu_o_array):\n",
    "            #Calculation\n",
    "            spectrum = np.where(nu_range<nu_o, (nu_range**beta)*blackbody(nu_range, temp_array[i]), A_array[i]*nu_range**(-gamma))\n",
    "            \n",
    "            #Plot curves\n",
    "            plt.plot(nu_range, spectrum, label='{} {}'.format(\"z =\", z[i]))\n",
    "            print(f'Power: {(nu_o**beta)*blackbody(nu_o, temp_array[i]):e}    {A_array[i]*nu_o**(-gamma):e}')\n",
    "            print(f'Freq : {nu[i]:e}    {nu_o:e} \\n\\n')\n",
    "            \n",
    "            #Marking v_o on the graph\n",
    "            plt.axvline(x = nu_o, ls=':', lw=0.2)\n",
    "            \n",
    "        #Plot Properties\n",
    "        plt.xscale('log')\n",
    "        plt.yscale('log')\n",
    "        plt.ylim([1e7, 1e12])\n",
    "        plt.xlim([1e10, 1e15])\n",
    "        plt.ylabel(r'$\\Theta (\\nu, z)$')\n",
    "        plt.xlabel(r'$\\nu$ (Hz)')\n",
    "        plt.legend()\n",
    "        plt.savefig('sed.png', dpi=900, bbox_inches='tight');\n",
    "            \n",
    "nu_obs = np.array([143.0e9])\n",
    "redshifts = np.array([0, 1, 2])\n",
    "sed(nu_obs, redshifts, plot=True)"
   ]
  },
  {
   "cell_type": "code",
   "execution_count": null,
   "metadata": {},
   "outputs": [],
   "source": [
    "redshifts = np.array([1.])\n",
    "sed(nu_obs, redshifts, plot=True)\n",
    "\n",
    "plt.plot(nu_range, blackbody(nu_range, temp_array[i]), ls='--', alpha=0.5, label='{} {}'.format(\"BB for z =\", z[i]))"
   ]
  },
  {
   "cell_type": "code",
   "execution_count": null,
   "metadata": {},
   "outputs": [],
   "source": [
    "nuobs = 4\n",
    "vo = np.array([5,6,4,7])\n",
    "\n",
    "if nuobs>vo:\n",
    "    print('lower spectrum')\n",
    "else:\n",
    "    print('upper spectrum')"
   ]
  },
  {
   "cell_type": "code",
   "execution_count": null,
   "metadata": {},
   "outputs": [],
   "source": []
  }
 ],
 "metadata": {
  "kernelspec": {
   "display_name": "MyEnv",
   "language": "python",
   "name": "myenv"
  },
  "language_info": {
   "codemirror_mode": {
    "name": "ipython",
    "version": 3
   },
   "file_extension": ".py",
   "mimetype": "text/x-python",
   "name": "python",
   "nbconvert_exporter": "python",
   "pygments_lexer": "ipython3",
   "version": "3.7.7"
  }
 },
 "nbformat": 4,
 "nbformat_minor": 4
}
